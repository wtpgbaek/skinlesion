{
  "nbformat": 4,
  "nbformat_minor": 0,
  "metadata": {
    "colab": {
      "provenance": [],
      "mount_file_id": "1m7PtmRMzNUr1HeonDsPmgwNQLF9H3piL",
      "authorship_tag": "ABX9TyMgGd56P3Gd15G0uLFqHklI",
      "include_colab_link": true
    },
    "kernelspec": {
      "name": "python3",
      "display_name": "Python 3"
    },
    "language_info": {
      "name": "python"
    }
  },
  "cells": [
    {
      "cell_type": "markdown",
      "metadata": {
        "id": "view-in-github",
        "colab_type": "text"
      },
      "source": [
        "<a href=\"https://colab.research.google.com/github/wtpgbaek/skinlesion/blob/main/Untitled10_bal256_0_0001.ipynb\" target=\"_parent\"><img src=\"https://colab.research.google.com/assets/colab-badge.svg\" alt=\"Open In Colab\"/></a>"
      ]
    },
    {
      "cell_type": "code",
      "source": [
        "!pip install tensorflow_addons"
      ],
      "metadata": {
        "id": "80fxaYfUDfj-",
        "colab": {
          "base_uri": "https://localhost:8080/"
        },
        "outputId": "8568fe5a-5deb-461e-8e38-98a34d553328"
      },
      "execution_count": null,
      "outputs": [
        {
          "output_type": "stream",
          "name": "stdout",
          "text": [
            "Collecting tensorflow_addons\n",
            "  Downloading tensorflow_addons-0.23.0-cp310-cp310-manylinux_2_17_x86_64.manylinux2014_x86_64.whl (611 kB)\n",
            "\u001b[2K     \u001b[90m━━━━━━━━━━━━━━━━━━━━━━━━━━━━━━━━━━━━━━━━\u001b[0m \u001b[32m611.8/611.8 kB\u001b[0m \u001b[31m5.7 MB/s\u001b[0m eta \u001b[36m0:00:00\u001b[0m\n",
            "\u001b[?25hRequirement already satisfied: packaging in /usr/local/lib/python3.10/dist-packages (from tensorflow_addons) (23.2)\n",
            "Collecting typeguard<3.0.0,>=2.7 (from tensorflow_addons)\n",
            "  Downloading typeguard-2.13.3-py3-none-any.whl (17 kB)\n",
            "Installing collected packages: typeguard, tensorflow_addons\n",
            "Successfully installed tensorflow_addons-0.23.0 typeguard-2.13.3\n"
          ]
        }
      ]
    },
    {
      "cell_type": "code",
      "source": [
        "from google.colab import drive\n",
        "drive.mount('/content/drive')"
      ],
      "metadata": {
        "colab": {
          "base_uri": "https://localhost:8080/"
        },
        "id": "Azrrm82Zpq-y",
        "outputId": "2b1ff541-951a-4cba-a136-99cd8c820ccf"
      },
      "execution_count": null,
      "outputs": [
        {
          "output_type": "stream",
          "name": "stdout",
          "text": [
            "Mounted at /content/drive\n"
          ]
        }
      ]
    },
    {
      "cell_type": "code",
      "execution_count": null,
      "metadata": {
        "id": "t4GEiRlaDUit",
        "colab": {
          "base_uri": "https://localhost:8080/"
        },
        "outputId": "5f0627ec-2609-4c11-840b-031bff9357a2"
      },
      "outputs": [
        {
          "output_type": "stream",
          "name": "stderr",
          "text": [
            "/usr/local/lib/python3.10/dist-packages/tensorflow_addons/utils/tfa_eol_msg.py:23: UserWarning: \n",
            "\n",
            "TensorFlow Addons (TFA) has ended development and introduction of new features.\n",
            "TFA has entered a minimal maintenance and release mode until a planned end of life in May 2024.\n",
            "Please modify downstream libraries to take dependencies from other repositories in our TensorFlow community (e.g. Keras, Keras-CV, and Keras-NLP). \n",
            "\n",
            "For more information see: https://github.com/tensorflow/addons/issues/2807 \n",
            "\n",
            "  warnings.warn(\n"
          ]
        }
      ],
      "source": [
        "import tensorflow as tf\n",
        "import tensorflow_addons as tfa\n",
        "import os\n",
        "import cv2\n",
        "import numpy as np\n",
        "\n",
        "from drive.MyDrive.model_layer import make_model\n",
        "from sklearn.model_selection import StratifiedKFold\n",
        "from sklearn.preprocessing import OneHotEncoder\n",
        "from sklearn.model_selection import train_test_split\n",
        "\n",
        "import keras.backend as K\n",
        "\n",
        "os.makedirs('checkpoints', exist_ok=True)\n",
        "\n",
        "X = []\n",
        "y = []\n",
        "\n",
        "image_shape = (3, 256, 256)\n"
      ]
    },
    {
      "cell_type": "code",
      "source": [
        "for f_label, folder_name in enumerate(('ACTINIC_KERATOSIS', 'BASAL_CELL_CARCINOMA','DERMATOFIBROMA','MELANOMA','NEVUS','PIGMENTED_BENIGN_KERATOSIS','SQUAMOUS_CELL_CARCIMONA','VASCULAR_LESION')):\n",
        "    folder_path = os.path.join('/content/drive/MyDrive/256_data/', folder_name)\n",
        "    print(folder_path)\n",
        "    for fname in os.listdir(folder_path):\n",
        "        fpath = os.path.join(folder_path, fname)\n",
        "\n",
        "        img = cv2.imread(fpath, cv2.IMREAD_COLOR)\n",
        "        img = cv2.resize(img, image_shape[1:])\n",
        "\n",
        "        X.append(img)\n",
        "        y.append(f_label)\n"
      ],
      "metadata": {
        "colab": {
          "base_uri": "https://localhost:8080/"
        },
        "id": "1Jm1Shk7DYVc",
        "outputId": "de4bf4fc-6962-459b-bda2-4d58c0c1d69a"
      },
      "execution_count": null,
      "outputs": [
        {
          "output_type": "stream",
          "name": "stdout",
          "text": [
            "/content/drive/MyDrive/256_data/ACTINIC_KERATOSIS\n",
            "/content/drive/MyDrive/256_data/BASAL_CELL_CARCINOMA\n",
            "/content/drive/MyDrive/256_data/DERMATOFIBROMA\n",
            "/content/drive/MyDrive/256_data/MELANOMA\n",
            "/content/drive/MyDrive/256_data/NEVUS\n",
            "/content/drive/MyDrive/256_data/PIGMENTED_BENIGN_KERATOSIS\n",
            "/content/drive/MyDrive/256_data/SQUAMOUS_CELL_CARCIMONA\n",
            "/content/drive/MyDrive/256_data/VASCULAR_LESION\n"
          ]
        }
      ]
    },
    {
      "cell_type": "code",
      "source": [
        "X = np.array(X)\n",
        "y = np.array(y).reshape(-1, 1)\n",
        "\n",
        "X = (X / 255.)\n",
        "X = X.transpose(0, 3, 1, 2)\n",
        "X = X.astype(np.float32)\n",
        "y = y.astype(np.float32)"
      ],
      "metadata": {
        "id": "jQZQXVufEfMv"
      },
      "execution_count": null,
      "outputs": []
    },
    {
      "cell_type": "code",
      "source": [
        "test2 = 0\n",
        "level1=10\n",
        "file_name=[]\n",
        "def make_test_data(test1,level1):\n",
        "  X=[]\n",
        "  y=[]\n",
        "\n",
        "  for f_label, folder_name in enumerate(('ACTINIC_KERATOSIS', 'BASAL_CELL_CARCINOMA','DERMATOFIBROMA','MELANOMA','NEVUS','PIGMENTED_BENIGN_KERATOSIS','SQUAMOUS_CELL_CARCIMONA','VASCULAR_LESION')):\n",
        "    folder_path = os.path.join(\"/content/drive/MyDrive/256_data/\", folder_name)\n",
        "    print(folder_path)\n",
        "\n",
        "    for fname in os.listdir(folder_path):\n",
        "        fpath = os.path.join(folder_path, fname)\n",
        "        img = cv2.imread(fpath, cv2.IMREAD_COLOR)\n",
        "        img = cv2.resize(img, image_shape[1:])\n",
        "\n",
        "\n",
        "        X.append(img)\n",
        "        y.append(f_label)\n",
        "\n",
        "  X = np.array(X)\n",
        "  y = np.array(y).reshape(-1, 1)\n",
        "\n",
        "  X = (X / 255.)\n",
        "  X = X.transpose(0, 3, 1, 2)\n",
        "  X = X.astype(np.float32)\n",
        "  y = y.astype(np.float32)\n",
        "\n",
        "  x_train = X\n",
        "  y_train = y\n",
        "  return x_train, y_train\n",
        "\n",
        "image_shape = (3, 256, 256)\n",
        "\n",
        "enc = OneHotEncoder(handle_unknown='ignore')\n",
        "temp_y = enc.fit_transform(y).toarray()\n",
        "\n",
        "x_train = X\n",
        "y_train = temp_y\n",
        "\n"
      ],
      "metadata": {
        "id": "l7HPl39YEjL7"
      },
      "execution_count": null,
      "outputs": []
    },
    {
      "cell_type": "code",
      "source": [
        "x_train, x_temp, y_train, y_temp = train_test_split(X, temp_y, test_size=0.2, random_state=42)\n",
        "x_val, x_test, y_val, y_test = train_test_split(x_temp, y_temp, test_size=0.5, random_state=42)\n"
      ],
      "metadata": {
        "id": "BCLuitYYV_cY"
      },
      "execution_count": null,
      "outputs": []
    },
    {
      "cell_type": "code",
      "source": [
        "#make model\n",
        "model = make_model(image_shape, num_classes=8)\n",
        "\n",
        "epochs = 10\n",
        "ckpoint= tf.keras.callbacks.ModelCheckpoint(filepath='/content/drive/MyDrive/256_data/model_save/',monitor='val_f1_score',save_best_only=True, save_weights_only=True)\n",
        "earlystopping= tf.keras.callbacks.EarlyStopping(monitor='val_f1_score', patience=10,mode='max')\n",
        "\n",
        "precision = tf.keras.metrics.Precision()\n",
        "recall = tf.keras.metrics.Recall()\n",
        "auc = tf.keras.metrics.AUC()\n",
        "spec=tf.keras.metrics.SpecificityAtSensitivity(0.5)\n",
        "iou=tf.keras.metrics.MeanIoU(num_classes=8)\n",
        "f1_score = tfa.metrics.F1Score(num_classes=8, threshold=0.6,average='micro')\n",
        "\n",
        "learningrate=0.0001\n",
        "opt1=tf.keras.optimizers.Adamax(learning_rate=learningrate)\n",
        "opt3=tf.keras.optimizers.Adam(learning_rate=learningrate)\n",
        "opt1=tf.keras.mixed_precision.LossScaleOptimizer(opt1)\n",
        "\n",
        "losses  = 'mse'\n",
        "model.compile(\n",
        "        optimizer = opt1,\n",
        "        loss = losses,\n",
        "        metrics = [precision, recall, auc,f1_score,spec,iou]\n",
        ")"
      ],
      "metadata": {
        "id": "tlLs9e_YFkUC"
      },
      "execution_count": null,
      "outputs": []
    },
    {
      "cell_type": "code",
      "source": [
        "hist=model.fit(x_train, y_train,epochs=epochs,batch_size=8,validation_data = (x_val, y_val),\n",
        "        callbacks = [ckpoint]\n",
        ")\n"
      ],
      "metadata": {
        "colab": {
          "base_uri": "https://localhost:8080/"
        },
        "id": "b75_nBY2GLEp",
        "outputId": "4bcf1f3e-4734-449d-e137-83937b4fc419"
      },
      "execution_count": null,
      "outputs": [
        {
          "output_type": "stream",
          "name": "stdout",
          "text": [
            "Epoch 1/10\n",
            "114/114 [==============================] - 28s 169ms/step - loss: 0.1040 - precision: 0.7273 - recall: 0.0176 - auc: 0.6710 - f1_score: 0.0195 - specificity_at_sensitivity: 0.7242 - mean_io_u: 0.4375 - val_loss: 0.1094 - val_precision: 0.0000e+00 - val_recall: 0.0000e+00 - val_auc: 0.4612 - val_f1_score: 0.0000e+00 - val_specificity_at_sensitivity: 0.0000e+00 - val_mean_io_u: 0.4375\n",
            "Epoch 2/10\n",
            "114/114 [==============================] - 18s 162ms/step - loss: 0.0987 - precision: 0.7073 - recall: 0.0638 - auc: 0.7283 - f1_score: 0.0933 - specificity_at_sensitivity: 0.8087 - mean_io_u: 0.4375 - val_loss: 0.1095 - val_precision: 0.0000e+00 - val_recall: 0.0000e+00 - val_auc: 0.4612 - val_f1_score: 0.0000e+00 - val_specificity_at_sensitivity: 0.0000e+00 - val_mean_io_u: 0.4375\n",
            "Epoch 3/10\n",
            "114/114 [==============================] - 18s 159ms/step - loss: 0.0956 - precision: 0.6961 - recall: 0.0781 - auc: 0.7611 - f1_score: 0.0952 - specificity_at_sensitivity: 0.8425 - mean_io_u: 0.4375 - val_loss: 0.1097 - val_precision: 0.0000e+00 - val_recall: 0.0000e+00 - val_auc: 0.4436 - val_f1_score: 0.0000e+00 - val_specificity_at_sensitivity: 0.3647 - val_mean_io_u: 0.4375\n",
            "Epoch 4/10\n",
            "114/114 [==============================] - 18s 158ms/step - loss: 0.0926 - precision: 0.7320 - recall: 0.1232 - auc: 0.7782 - f1_score: 0.1466 - specificity_at_sensitivity: 0.8513 - mean_io_u: 0.4375 - val_loss: 0.1100 - val_precision: 0.0000e+00 - val_recall: 0.0000e+00 - val_auc: 0.4436 - val_f1_score: 0.0000e+00 - val_specificity_at_sensitivity: 0.3647 - val_mean_io_u: 0.4375\n",
            "Epoch 5/10\n",
            "114/114 [==============================] - 18s 160ms/step - loss: 0.0899 - precision: 0.6954 - recall: 0.1331 - auc: 0.7969 - f1_score: 0.1598 - specificity_at_sensitivity: 0.8817 - mean_io_u: 0.4375 - val_loss: 0.1102 - val_precision: 0.0000e+00 - val_recall: 0.0000e+00 - val_auc: 0.4975 - val_f1_score: 0.0000e+00 - val_specificity_at_sensitivity: 0.2381 - val_mean_io_u: 0.4375\n",
            "Epoch 6/10\n",
            "114/114 [==============================] - 18s 158ms/step - loss: 0.0872 - precision: 0.7121 - recall: 0.1551 - auc: 0.8142 - f1_score: 0.1951 - specificity_at_sensitivity: 0.8909 - mean_io_u: 0.4375 - val_loss: 0.1071 - val_precision: 0.0000e+00 - val_recall: 0.0000e+00 - val_auc: 0.6219 - val_f1_score: 0.0000e+00 - val_specificity_at_sensitivity: 0.6591 - val_mean_io_u: 0.4375\n",
            "Epoch 7/10\n",
            "114/114 [==============================] - 18s 159ms/step - loss: 0.0851 - precision: 0.7735 - recall: 0.1991 - auc: 0.8200 - f1_score: 0.2484 - specificity_at_sensitivity: 0.9090 - mean_io_u: 0.4375 - val_loss: 0.0955 - val_precision: 0.8333 - val_recall: 0.0439 - val_auc: 0.7499 - val_f1_score: 0.0513 - val_specificity_at_sensitivity: 0.8283 - val_mean_io_u: 0.4375\n",
            "Epoch 8/10\n",
            "114/114 [==============================] - 19s 167ms/step - loss: 0.0829 - precision: 0.7778 - recall: 0.2233 - auc: 0.8292 - f1_score: 0.2639 - specificity_at_sensitivity: 0.9110 - mean_io_u: 0.4375 - val_loss: 0.0871 - val_precision: 0.8077 - val_recall: 0.1842 - val_auc: 0.8122 - val_f1_score: 0.2273 - val_specificity_at_sensitivity: 0.8734 - val_mean_io_u: 0.4375\n",
            "Epoch 9/10\n",
            "114/114 [==============================] - 19s 168ms/step - loss: 0.0802 - precision: 0.7840 - recall: 0.2475 - auc: 0.8441 - f1_score: 0.3113 - specificity_at_sensitivity: 0.9242 - mean_io_u: 0.4375 - val_loss: 0.0903 - val_precision: 0.6765 - val_recall: 0.2018 - val_auc: 0.8067 - val_f1_score: 0.1846 - val_specificity_at_sensitivity: 0.8471 - val_mean_io_u: 0.4375\n",
            "Epoch 10/10\n",
            "114/114 [==============================] - 19s 166ms/step - loss: 0.0800 - precision: 0.7517 - recall: 0.2365 - auc: 0.8468 - f1_score: 0.3107 - specificity_at_sensitivity: 0.9298 - mean_io_u: 0.4375 - val_loss: 0.0879 - val_precision: 0.6182 - val_recall: 0.2982 - val_auc: 0.8122 - val_f1_score: 0.3975 - val_specificity_at_sensitivity: 0.8847 - val_mean_io_u: 0.4375\n"
          ]
        }
      ]
    },
    {
      "cell_type": "code",
      "source": [
        "test_metrics = model.evaluate(x_test, y_test)"
      ],
      "metadata": {
        "colab": {
          "base_uri": "https://localhost:8080/"
        },
        "id": "AMdwPVlGXRZG",
        "outputId": "0110d8b8-bf38-40ca-dd26-208233665451"
      },
      "execution_count": null,
      "outputs": [
        {
          "output_type": "stream",
          "name": "stdout",
          "text": [
            "4/4 [==============================] - 0s 88ms/step - loss: 0.0910 - precision: 0.5741 - recall: 0.2719 - auc: 0.7987 - f1_score: 0.3649 - specificity_at_sensitivity: 0.8346 - mean_io_u: 0.4375\n"
          ]
        }
      ]
    },
    {
      "cell_type": "code",
      "source": [
        "print(\"Test Metrics:\", test_metrics)"
      ],
      "metadata": {
        "colab": {
          "base_uri": "https://localhost:8080/"
        },
        "id": "XE-7IChxXV05",
        "outputId": "bc1f5072-71ce-48b1-a745-b78bd0e79ce8"
      },
      "execution_count": null,
      "outputs": [
        {
          "output_type": "stream",
          "name": "stdout",
          "text": [
            "Test Metrics: [0.09103741496801376, 0.5740740895271301, 0.2719298303127289, 0.7986633777618408, 0.36486485600471497, 0.8345864415168762, 0.4375]\n"
          ]
        }
      ]
    },
    {
      "cell_type": "code",
      "source": [
        "print(hist.history.keys())"
      ],
      "metadata": {
        "colab": {
          "base_uri": "https://localhost:8080/"
        },
        "id": "VY_5pseiXn6O",
        "outputId": "cb531a0b-63b1-4b24-8c86-e62315120d80"
      },
      "execution_count": null,
      "outputs": [
        {
          "output_type": "stream",
          "name": "stdout",
          "text": [
            "dict_keys(['loss', 'precision', 'recall', 'auc', 'f1_score', 'specificity_at_sensitivity', 'mean_io_u', 'val_loss', 'val_precision', 'val_recall', 'val_auc', 'val_f1_score', 'val_specificity_at_sensitivity', 'val_mean_io_u'])\n"
          ]
        }
      ]
    },
    {
      "cell_type": "code",
      "source": [
        "%matplotlib inline\n",
        "import matplotlib.pyplot as plt\n",
        "\n",
        "fig, loss_ax = plt.subplots()\n",
        "\n",
        "acc_ax = loss_ax.twinx()\n",
        "\n",
        "loss_ax.plot(hist.history['loss'],'y',label='train loss')\n",
        "loss_ax.plot(hist.history['val_loss'],'r',label='val loss')\n",
        "acc_ax.plot(hist.history['auc'],'b',label='train acc')\n",
        "acc_ax.plot(hist.history['val_auc'],'g',label='val acc')\n",
        "\n",
        "loss_ax.set_xlabel('epoch')\n",
        "loss_ax.set_ylabel('loss')\n",
        "acc_ax.set_ylabel('accuracy')\n",
        "\n",
        "loss_ax.legend(loc='upper left')\n",
        "acc_ax.legend(loc='lower left')\n",
        "plt.show()"
      ],
      "metadata": {
        "id": "Emmm6vSmPS5E",
        "colab": {
          "base_uri": "https://localhost:8080/",
          "height": 439
        },
        "outputId": "481db6de-caf4-4285-df92-81595eb07f60"
      },
      "execution_count": null,
      "outputs": [
        {
          "output_type": "display_data",
          "data": {
            "text/plain": [
              "<Figure size 640x480 with 2 Axes>"
            ],
            "image/png": "[encoded data removed]"
          },
          "metadata": {}
        }
      ]
    },
    {
      "cell_type": "code",
      "source": [
        "print('##### Test Result #####')\n",
        "print('loss : ',str(test_metrics[0]))\n",
        "print('Accuracy : ',str(test_metrics[1]))\n"
      ],
      "metadata": {
        "colab": {
          "base_uri": "https://localhost:8080/"
        },
        "id": "PVYdZ9pTYfbN",
        "outputId": "aa0f367b-0a81-4006-b4b3-94f0355f1dfd"
      },
      "execution_count": null,
      "outputs": [
        {
          "output_type": "stream",
          "name": "stdout",
          "text": [
            "##### Test Result #####\n",
            "loss :  0.09103741496801376\n",
            "Accuracy :  0.5740740895271301\n"
          ]
        }
      ]
    },
    {
      "cell_type": "code",
      "source": [
        "model.save(\"/content/drive/MyDrive/jpg_section/model_save/classification_model_\"+str(test2)+\"2.h5\")"
      ],
      "metadata": {
        "colab": {
          "base_uri": "https://localhost:8080/",
          "height": 529
        },
        "id": "WlEpxA8XGRbA",
        "outputId": "7911cf92-2c76-480d-ecee-52a93f0d1918"
      },
      "execution_count": null,
      "outputs": [
        {
          "output_type": "stream",
          "name": "stderr",
          "text": [
            "/usr/local/lib/python3.10/dist-packages/keras/src/engine/training.py:3079: UserWarning: You are saving your model as an HDF5 file via `model.save()`. This file format is considered legacy. We recommend using instead the native Keras format, e.g. `model.save('my_model.keras')`.\n",
            "  saving_api.save_model(\n"
          ]
        },
        {
          "output_type": "error",
          "ename": "KeyboardInterrupt",
          "evalue": "ignored",
          "traceback": [
            "\u001b[0;31m---------------------------------------------------------------------------\u001b[0m",
            "\u001b[0;31mKeyboardInterrupt\u001b[0m                         Traceback (most recent call last)",
            "\u001b[0;32m<ipython-input-39-d7e8ca7fb566>\u001b[0m in \u001b[0;36m<cell line: 1>\u001b[0;34m()\u001b[0m\n\u001b[0;32m----> 1\u001b[0;31m \u001b[0mmodel\u001b[0m\u001b[0;34m.\u001b[0m\u001b[0msave\u001b[0m\u001b[0;34m(\u001b[0m\u001b[0;34m\"/content/drive/MyDrive/jpg_section/model_save/classification_model_\"\u001b[0m\u001b[0;34m+\u001b[0m\u001b[0mstr\u001b[0m\u001b[0;34m(\u001b[0m\u001b[0mtest2\u001b[0m\u001b[0;34m)\u001b[0m\u001b[0;34m+\u001b[0m\u001b[0;34m\"2.h5\"\u001b[0m\u001b[0;34m)\u001b[0m\u001b[0;34m\u001b[0m\u001b[0;34m\u001b[0m\u001b[0m\n\u001b[0m",
            "\u001b[0;32m/usr/local/lib/python3.10/dist-packages/keras/src/utils/traceback_utils.py\u001b[0m in \u001b[0;36merror_handler\u001b[0;34m(*args, **kwargs)\u001b[0m\n\u001b[1;32m     63\u001b[0m         \u001b[0mfiltered_tb\u001b[0m \u001b[0;34m=\u001b[0m \u001b[0;32mNone\u001b[0m\u001b[0;34m\u001b[0m\u001b[0;34m\u001b[0m\u001b[0m\n\u001b[1;32m     64\u001b[0m         \u001b[0;32mtry\u001b[0m\u001b[0;34m:\u001b[0m\u001b[0;34m\u001b[0m\u001b[0;34m\u001b[0m\u001b[0m\n\u001b[0;32m---> 65\u001b[0;31m             \u001b[0;32mreturn\u001b[0m \u001b[0mfn\u001b[0m\u001b[0;34m(\u001b[0m\u001b[0;34m*\u001b[0m\u001b[0margs\u001b[0m\u001b[0;34m,\u001b[0m \u001b[0;34m**\u001b[0m\u001b[0mkwargs\u001b[0m\u001b[0;34m)\u001b[0m\u001b[0;34m\u001b[0m\u001b[0;34m\u001b[0m\u001b[0m\n\u001b[0m\u001b[1;32m     66\u001b[0m         \u001b[0;32mexcept\u001b[0m \u001b[0mException\u001b[0m \u001b[0;32mas\u001b[0m \u001b[0me\u001b[0m\u001b[0;34m:\u001b[0m\u001b[0;34m\u001b[0m\u001b[0;34m\u001b[0m\u001b[0m\n\u001b[1;32m     67\u001b[0m             \u001b[0mfiltered_tb\u001b[0m \u001b[0;34m=\u001b[0m \u001b[0m_process_traceback_frames\u001b[0m\u001b[0;34m(\u001b[0m\u001b[0me\u001b[0m\u001b[0;34m.\u001b[0m\u001b[0m__traceback__\u001b[0m\u001b[0;34m)\u001b[0m\u001b[0;34m\u001b[0m\u001b[0;34m\u001b[0m\u001b[0m\n",
            "\u001b[0;32m/usr/local/lib/python3.10/dist-packages/keras/src/engine/training.py\u001b[0m in \u001b[0;36msave\u001b[0;34m(self, filepath, overwrite, save_format, **kwargs)\u001b[0m\n\u001b[1;32m   3077\u001b[0m         \u001b[0mNote\u001b[0m \u001b[0mthat\u001b[0m\u001b[0;31m \u001b[0m\u001b[0;31m`\u001b[0m\u001b[0mmodel\u001b[0m\u001b[0;34m.\u001b[0m\u001b[0msave\u001b[0m\u001b[0;34m(\u001b[0m\u001b[0;34m)\u001b[0m\u001b[0;31m`\u001b[0m \u001b[0;32mis\u001b[0m \u001b[0man\u001b[0m \u001b[0malias\u001b[0m \u001b[0;32mfor\u001b[0m\u001b[0;31m \u001b[0m\u001b[0;31m`\u001b[0m\u001b[0mtf\u001b[0m\u001b[0;34m.\u001b[0m\u001b[0mkeras\u001b[0m\u001b[0;34m.\u001b[0m\u001b[0mmodels\u001b[0m\u001b[0;34m.\u001b[0m\u001b[0msave_model\u001b[0m\u001b[0;34m(\u001b[0m\u001b[0;34m)\u001b[0m\u001b[0;31m`\u001b[0m\u001b[0;34m.\u001b[0m\u001b[0;34m\u001b[0m\u001b[0;34m\u001b[0m\u001b[0m\n\u001b[1;32m   3078\u001b[0m         \"\"\"\n\u001b[0;32m-> 3079\u001b[0;31m         saving_api.save_model(\n\u001b[0m\u001b[1;32m   3080\u001b[0m             \u001b[0mself\u001b[0m\u001b[0;34m,\u001b[0m\u001b[0;34m\u001b[0m\u001b[0;34m\u001b[0m\u001b[0m\n\u001b[1;32m   3081\u001b[0m             \u001b[0mfilepath\u001b[0m\u001b[0;34m=\u001b[0m\u001b[0mfilepath\u001b[0m\u001b[0;34m,\u001b[0m\u001b[0;34m\u001b[0m\u001b[0;34m\u001b[0m\u001b[0m\n",
            "\u001b[0;32m/usr/local/lib/python3.10/dist-packages/keras/src/saving/saving_api.py\u001b[0m in \u001b[0;36msave_model\u001b[0;34m(model, filepath, overwrite, save_format, **kwargs)\u001b[0m\n\u001b[1;32m    165\u001b[0m     \u001b[0;32melse\u001b[0m\u001b[0;34m:\u001b[0m\u001b[0;34m\u001b[0m\u001b[0;34m\u001b[0m\u001b[0m\n\u001b[1;32m    166\u001b[0m         \u001b[0;31m# Legacy case\u001b[0m\u001b[0;34m\u001b[0m\u001b[0;34m\u001b[0m\u001b[0m\n\u001b[0;32m--> 167\u001b[0;31m         return legacy_sm_saving_lib.save_model(\n\u001b[0m\u001b[1;32m    168\u001b[0m             \u001b[0mmodel\u001b[0m\u001b[0;34m,\u001b[0m\u001b[0;34m\u001b[0m\u001b[0;34m\u001b[0m\u001b[0m\n\u001b[1;32m    169\u001b[0m             \u001b[0mfilepath\u001b[0m\u001b[0;34m,\u001b[0m\u001b[0;34m\u001b[0m\u001b[0;34m\u001b[0m\u001b[0m\n",
            "\u001b[0;32m/usr/local/lib/python3.10/dist-packages/keras/src/utils/traceback_utils.py\u001b[0m in \u001b[0;36merror_handler\u001b[0;34m(*args, **kwargs)\u001b[0m\n\u001b[1;32m     63\u001b[0m         \u001b[0mfiltered_tb\u001b[0m \u001b[0;34m=\u001b[0m \u001b[0;32mNone\u001b[0m\u001b[0;34m\u001b[0m\u001b[0;34m\u001b[0m\u001b[0m\n\u001b[1;32m     64\u001b[0m         \u001b[0;32mtry\u001b[0m\u001b[0;34m:\u001b[0m\u001b[0;34m\u001b[0m\u001b[0;34m\u001b[0m\u001b[0m\n\u001b[0;32m---> 65\u001b[0;31m             \u001b[0;32mreturn\u001b[0m \u001b[0mfn\u001b[0m\u001b[0;34m(\u001b[0m\u001b[0;34m*\u001b[0m\u001b[0margs\u001b[0m\u001b[0;34m,\u001b[0m \u001b[0;34m**\u001b[0m\u001b[0mkwargs\u001b[0m\u001b[0;34m)\u001b[0m\u001b[0;34m\u001b[0m\u001b[0;34m\u001b[0m\u001b[0m\n\u001b[0m\u001b[1;32m     66\u001b[0m         \u001b[0;32mexcept\u001b[0m \u001b[0mException\u001b[0m \u001b[0;32mas\u001b[0m \u001b[0me\u001b[0m\u001b[0;34m:\u001b[0m\u001b[0;34m\u001b[0m\u001b[0;34m\u001b[0m\u001b[0m\n\u001b[1;32m     67\u001b[0m             \u001b[0mfiltered_tb\u001b[0m \u001b[0;34m=\u001b[0m \u001b[0m_process_traceback_frames\u001b[0m\u001b[0;34m(\u001b[0m\u001b[0me\u001b[0m\u001b[0;34m.\u001b[0m\u001b[0m__traceback__\u001b[0m\u001b[0;34m)\u001b[0m\u001b[0;34m\u001b[0m\u001b[0;34m\u001b[0m\u001b[0m\n",
            "\u001b[0;32m/usr/local/lib/python3.10/dist-packages/keras/src/saving/legacy/save.py\u001b[0m in \u001b[0;36msave_model\u001b[0;34m(model, filepath, overwrite, include_optimizer, save_format, signatures, options, save_traces)\u001b[0m\n\u001b[1;32m    158\u001b[0m                 \u001b[0;34m'setting save_format=\"tf\") or using `save_weights`.'\u001b[0m\u001b[0;34m\u001b[0m\u001b[0;34m\u001b[0m\u001b[0m\n\u001b[1;32m    159\u001b[0m             )\n\u001b[0;32m--> 160\u001b[0;31m         hdf5_format.save_model_to_hdf5(\n\u001b[0m\u001b[1;32m    161\u001b[0m             \u001b[0mmodel\u001b[0m\u001b[0;34m,\u001b[0m \u001b[0mfilepath\u001b[0m\u001b[0;34m,\u001b[0m \u001b[0moverwrite\u001b[0m\u001b[0;34m,\u001b[0m \u001b[0minclude_optimizer\u001b[0m\u001b[0;34m\u001b[0m\u001b[0;34m\u001b[0m\u001b[0m\n\u001b[1;32m    162\u001b[0m         )\n",
            "\u001b[0;32m/usr/local/lib/python3.10/dist-packages/keras/src/saving/legacy/hdf5_format.py\u001b[0m in \u001b[0;36msave_model_to_hdf5\u001b[0;34m(model, filepath, overwrite, include_optimizer)\u001b[0m\n\u001b[1;32m    126\u001b[0m \u001b[0;34m\u001b[0m\u001b[0m\n\u001b[1;32m    127\u001b[0m         \u001b[0mmodel_weights_group\u001b[0m \u001b[0;34m=\u001b[0m \u001b[0mf\u001b[0m\u001b[0;34m.\u001b[0m\u001b[0mcreate_group\u001b[0m\u001b[0;34m(\u001b[0m\u001b[0;34m\"model_weights\"\u001b[0m\u001b[0;34m)\u001b[0m\u001b[0;34m\u001b[0m\u001b[0;34m\u001b[0m\u001b[0m\n\u001b[0;32m--> 128\u001b[0;31m         \u001b[0msave_weights_to_hdf5_group\u001b[0m\u001b[0;34m(\u001b[0m\u001b[0mmodel_weights_group\u001b[0m\u001b[0;34m,\u001b[0m \u001b[0mmodel\u001b[0m\u001b[0;34m)\u001b[0m\u001b[0;34m\u001b[0m\u001b[0;34m\u001b[0m\u001b[0m\n\u001b[0m\u001b[1;32m    129\u001b[0m \u001b[0;34m\u001b[0m\u001b[0m\n\u001b[1;32m    130\u001b[0m         \u001b[0;31m# TODO(b/128683857): Add integration tests between tf.keras and external\u001b[0m\u001b[0;34m\u001b[0m\u001b[0;34m\u001b[0m\u001b[0m\n",
            "\u001b[0;32m/usr/local/lib/python3.10/dist-packages/keras/src/saving/legacy/hdf5_format.py\u001b[0m in \u001b[0;36msave_weights_to_hdf5_group\u001b[0;34m(f, model)\u001b[0m\n\u001b[1;32m    755\u001b[0m         \u001b[0mg\u001b[0m \u001b[0;34m=\u001b[0m \u001b[0mf\u001b[0m\u001b[0;34m.\u001b[0m\u001b[0mcreate_group\u001b[0m\u001b[0;34m(\u001b[0m\u001b[0mlayer\u001b[0m\u001b[0;34m.\u001b[0m\u001b[0mname\u001b[0m\u001b[0;34m)\u001b[0m\u001b[0;34m\u001b[0m\u001b[0;34m\u001b[0m\u001b[0m\n\u001b[1;32m    756\u001b[0m         \u001b[0mweights\u001b[0m \u001b[0;34m=\u001b[0m \u001b[0m_legacy_weights\u001b[0m\u001b[0;34m(\u001b[0m\u001b[0mlayer\u001b[0m\u001b[0;34m)\u001b[0m\u001b[0;34m\u001b[0m\u001b[0;34m\u001b[0m\u001b[0m\n\u001b[0;32m--> 757\u001b[0;31m         \u001b[0msave_subset_weights_to_hdf5_group\u001b[0m\u001b[0;34m(\u001b[0m\u001b[0mg\u001b[0m\u001b[0;34m,\u001b[0m \u001b[0mweights\u001b[0m\u001b[0;34m)\u001b[0m\u001b[0;34m\u001b[0m\u001b[0;34m\u001b[0m\u001b[0m\n\u001b[0m\u001b[1;32m    758\u001b[0m     \u001b[0mweights\u001b[0m \u001b[0;34m=\u001b[0m \u001b[0mmodel\u001b[0m\u001b[0;34m.\u001b[0m\u001b[0m_trainable_weights\u001b[0m \u001b[0;34m+\u001b[0m \u001b[0mmodel\u001b[0m\u001b[0;34m.\u001b[0m\u001b[0m_non_trainable_weights\u001b[0m\u001b[0;34m\u001b[0m\u001b[0;34m\u001b[0m\u001b[0m\n\u001b[1;32m    759\u001b[0m     \u001b[0mg\u001b[0m \u001b[0;34m=\u001b[0m \u001b[0mf\u001b[0m\u001b[0;34m.\u001b[0m\u001b[0mcreate_group\u001b[0m\u001b[0;34m(\u001b[0m\u001b[0;34m\"top_level_model_weights\"\u001b[0m\u001b[0;34m)\u001b[0m\u001b[0;34m\u001b[0m\u001b[0;34m\u001b[0m\u001b[0m\n",
            "\u001b[0;32m/usr/local/lib/python3.10/dist-packages/keras/src/saving/legacy/hdf5_format.py\u001b[0m in \u001b[0;36msave_subset_weights_to_hdf5_group\u001b[0;34m(f, weights)\u001b[0m\n\u001b[1;32m    727\u001b[0m     \u001b[0msave_attributes_to_hdf5_group\u001b[0m\u001b[0;34m(\u001b[0m\u001b[0mf\u001b[0m\u001b[0;34m,\u001b[0m \u001b[0;34m\"weight_names\"\u001b[0m\u001b[0;34m,\u001b[0m \u001b[0mweight_names\u001b[0m\u001b[0;34m)\u001b[0m\u001b[0;34m\u001b[0m\u001b[0;34m\u001b[0m\u001b[0m\n\u001b[1;32m    728\u001b[0m     \u001b[0;32mfor\u001b[0m \u001b[0mname\u001b[0m\u001b[0;34m,\u001b[0m \u001b[0mval\u001b[0m \u001b[0;32min\u001b[0m \u001b[0mzip\u001b[0m\u001b[0;34m(\u001b[0m\u001b[0mweight_names\u001b[0m\u001b[0;34m,\u001b[0m \u001b[0mweight_values\u001b[0m\u001b[0;34m)\u001b[0m\u001b[0;34m:\u001b[0m\u001b[0;34m\u001b[0m\u001b[0;34m\u001b[0m\u001b[0m\n\u001b[0;32m--> 729\u001b[0;31m         \u001b[0mparam_dset\u001b[0m \u001b[0;34m=\u001b[0m \u001b[0mf\u001b[0m\u001b[0;34m.\u001b[0m\u001b[0mcreate_dataset\u001b[0m\u001b[0;34m(\u001b[0m\u001b[0mname\u001b[0m\u001b[0;34m,\u001b[0m \u001b[0mval\u001b[0m\u001b[0;34m.\u001b[0m\u001b[0mshape\u001b[0m\u001b[0;34m,\u001b[0m \u001b[0mdtype\u001b[0m\u001b[0;34m=\u001b[0m\u001b[0mval\u001b[0m\u001b[0;34m.\u001b[0m\u001b[0mdtype\u001b[0m\u001b[0;34m)\u001b[0m\u001b[0;34m\u001b[0m\u001b[0;34m\u001b[0m\u001b[0m\n\u001b[0m\u001b[1;32m    730\u001b[0m         \u001b[0;32mif\u001b[0m \u001b[0;32mnot\u001b[0m \u001b[0mval\u001b[0m\u001b[0;34m.\u001b[0m\u001b[0mshape\u001b[0m\u001b[0;34m:\u001b[0m\u001b[0;34m\u001b[0m\u001b[0;34m\u001b[0m\u001b[0m\n\u001b[1;32m    731\u001b[0m             \u001b[0;31m# scalar\u001b[0m\u001b[0;34m\u001b[0m\u001b[0;34m\u001b[0m\u001b[0m\n",
            "\u001b[0;32m/usr/local/lib/python3.10/dist-packages/h5py/_hl/group.py\u001b[0m in \u001b[0;36mcreate_dataset\u001b[0;34m(self, name, shape, dtype, data, **kwds)\u001b[0m\n\u001b[1;32m    181\u001b[0m                     \u001b[0mgroup\u001b[0m \u001b[0;34m=\u001b[0m \u001b[0mself\u001b[0m\u001b[0;34m.\u001b[0m\u001b[0mrequire_group\u001b[0m\u001b[0;34m(\u001b[0m\u001b[0mparent_path\u001b[0m\u001b[0;34m)\u001b[0m\u001b[0;34m\u001b[0m\u001b[0;34m\u001b[0m\u001b[0m\n\u001b[1;32m    182\u001b[0m \u001b[0;34m\u001b[0m\u001b[0m\n\u001b[0;32m--> 183\u001b[0;31m             \u001b[0mdsid\u001b[0m \u001b[0;34m=\u001b[0m \u001b[0mdataset\u001b[0m\u001b[0;34m.\u001b[0m\u001b[0mmake_new_dset\u001b[0m\u001b[0;34m(\u001b[0m\u001b[0mgroup\u001b[0m\u001b[0;34m,\u001b[0m \u001b[0mshape\u001b[0m\u001b[0;34m,\u001b[0m \u001b[0mdtype\u001b[0m\u001b[0;34m,\u001b[0m \u001b[0mdata\u001b[0m\u001b[0;34m,\u001b[0m \u001b[0mname\u001b[0m\u001b[0;34m,\u001b[0m \u001b[0;34m**\u001b[0m\u001b[0mkwds\u001b[0m\u001b[0;34m)\u001b[0m\u001b[0;34m\u001b[0m\u001b[0;34m\u001b[0m\u001b[0m\n\u001b[0m\u001b[1;32m    184\u001b[0m             \u001b[0mdset\u001b[0m \u001b[0;34m=\u001b[0m \u001b[0mdataset\u001b[0m\u001b[0;34m.\u001b[0m\u001b[0mDataset\u001b[0m\u001b[0;34m(\u001b[0m\u001b[0mdsid\u001b[0m\u001b[0;34m)\u001b[0m\u001b[0;34m\u001b[0m\u001b[0;34m\u001b[0m\u001b[0m\n\u001b[1;32m    185\u001b[0m             \u001b[0;32mreturn\u001b[0m \u001b[0mdset\u001b[0m\u001b[0;34m\u001b[0m\u001b[0;34m\u001b[0m\u001b[0m\n",
            "\u001b[0;32m/usr/local/lib/python3.10/dist-packages/h5py/_hl/dataset.py\u001b[0m in \u001b[0;36mmake_new_dset\u001b[0;34m(parent, shape, dtype, data, name, chunks, compression, shuffle, fletcher32, maxshape, compression_opts, fillvalue, scaleoffset, track_times, external, track_order, dcpl, dapl, efile_prefix, virtual_prefix, allow_unknown_filter, rdcc_nslots, rdcc_nbytes, rdcc_w0)\u001b[0m\n\u001b[1;32m    137\u001b[0m         \u001b[0mmaxshape\u001b[0m \u001b[0;34m=\u001b[0m \u001b[0mtuple\u001b[0m\u001b[0;34m(\u001b[0m\u001b[0mm\u001b[0m \u001b[0;32mif\u001b[0m \u001b[0mm\u001b[0m \u001b[0;32mis\u001b[0m \u001b[0;32mnot\u001b[0m \u001b[0;32mNone\u001b[0m \u001b[0;32melse\u001b[0m \u001b[0mh5s\u001b[0m\u001b[0;34m.\u001b[0m\u001b[0mUNLIMITED\u001b[0m \u001b[0;32mfor\u001b[0m \u001b[0mm\u001b[0m \u001b[0;32min\u001b[0m \u001b[0mmaxshape\u001b[0m\u001b[0;34m)\u001b[0m\u001b[0;34m\u001b[0m\u001b[0;34m\u001b[0m\u001b[0m\n\u001b[1;32m    138\u001b[0m \u001b[0;34m\u001b[0m\u001b[0m\n\u001b[0;32m--> 139\u001b[0;31m     \u001b[0;32mif\u001b[0m \u001b[0many\u001b[0m\u001b[0;34m(\u001b[0m\u001b[0;34m[\u001b[0m\u001b[0mefile_prefix\u001b[0m\u001b[0;34m,\u001b[0m \u001b[0mvirtual_prefix\u001b[0m\u001b[0;34m,\u001b[0m \u001b[0mrdcc_nbytes\u001b[0m\u001b[0;34m,\u001b[0m \u001b[0mrdcc_nslots\u001b[0m\u001b[0;34m,\u001b[0m \u001b[0mrdcc_w0\u001b[0m\u001b[0;34m]\u001b[0m\u001b[0;34m)\u001b[0m\u001b[0;34m:\u001b[0m\u001b[0;34m\u001b[0m\u001b[0;34m\u001b[0m\u001b[0m\n\u001b[0m\u001b[1;32m    140\u001b[0m         \u001b[0mdapl\u001b[0m \u001b[0;34m=\u001b[0m \u001b[0mdapl\u001b[0m \u001b[0;32mor\u001b[0m \u001b[0mh5p\u001b[0m\u001b[0;34m.\u001b[0m\u001b[0mcreate\u001b[0m\u001b[0;34m(\u001b[0m\u001b[0mh5p\u001b[0m\u001b[0;34m.\u001b[0m\u001b[0mDATASET_ACCESS\u001b[0m\u001b[0;34m)\u001b[0m\u001b[0;34m\u001b[0m\u001b[0;34m\u001b[0m\u001b[0m\n\u001b[1;32m    141\u001b[0m \u001b[0;34m\u001b[0m\u001b[0m\n",
            "\u001b[0;31mKeyboardInterrupt\u001b[0m: "
          ]
        }
      ]
    }
  ]
}