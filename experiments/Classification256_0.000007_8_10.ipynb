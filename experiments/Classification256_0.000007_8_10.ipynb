{
  "nbformat": 4,
  "nbformat_minor": 0,
  "metadata": {
    "colab": {
      "provenance": [],
      "mount_file_id": "1m7PtmRMzNUr1HeonDsPmgwNQLF9H3piL",
      "authorship_tag": "ABX9TyMmi6V+pNvkQDgjzNbkgT0q",
      "include_colab_link": true
    },
    "kernelspec": {
      "name": "python3",
      "display_name": "Python 3"
    },
    "language_info": {
      "name": "python"
    }
  },
  "cells": [
    {
      "cell_type": "markdown",
      "metadata": {
        "id": "view-in-github",
        "colab_type": "text"
      },
      "source": [
        "<a href=\"https://colab.research.google.com/github/wtpgbaek/skinlesion/blob/main/Untitled10_bal256_0_000007.ipynb\" target=\"_parent\"><img src=\"https://colab.research.google.com/assets/colab-badge.svg\" alt=\"Open In Colab\"/></a>"
      ]
    },
    {
      "cell_type": "code",
      "source": [
        "!pip install tensorflow_addons"
      ],
      "metadata": {
        "id": "80fxaYfUDfj-",
        "colab": {
          "base_uri": "https://localhost:8080/"
        },
        "outputId": "839f53b2-08a3-4869-b7f3-8acbb61b2398"
      },
      "execution_count": 1,
      "outputs": [
        {
          "output_type": "stream",
          "name": "stdout",
          "text": [
            "Collecting tensorflow_addons\n",
            "  Downloading tensorflow_addons-0.23.0-cp310-cp310-manylinux_2_17_x86_64.manylinux2014_x86_64.whl (611 kB)\n",
            "\u001b[2K     \u001b[90m━━━━━━━━━━━━━━━━━━━━━━━━━━━━━━━━━━━━━━━━\u001b[0m \u001b[32m611.8/611.8 kB\u001b[0m \u001b[31m8.3 MB/s\u001b[0m eta \u001b[36m0:00:00\u001b[0m\n",
            "\u001b[?25hRequirement already satisfied: packaging in /usr/local/lib/python3.10/dist-packages (from tensorflow_addons) (23.2)\n",
            "Collecting typeguard<3.0.0,>=2.7 (from tensorflow_addons)\n",
            "  Downloading typeguard-2.13.3-py3-none-any.whl (17 kB)\n",
            "Installing collected packages: typeguard, tensorflow_addons\n",
            "Successfully installed tensorflow_addons-0.23.0 typeguard-2.13.3\n"
          ]
        }
      ]
    },
    {
      "cell_type": "code",
      "source": [
        "from google.colab import drive\n",
        "drive.mount('/content/drive')"
      ],
      "metadata": {
        "colab": {
          "base_uri": "https://localhost:8080/"
        },
        "id": "Azrrm82Zpq-y",
        "outputId": "fcca4248-7369-42e0-b901-7618eb9beae6"
      },
      "execution_count": 2,
      "outputs": [
        {
          "output_type": "stream",
          "name": "stdout",
          "text": [
            "Mounted at /content/drive\n"
          ]
        }
      ]
    },
    {
      "cell_type": "code",
      "execution_count": 3,
      "metadata": {
        "id": "t4GEiRlaDUit",
        "colab": {
          "base_uri": "https://localhost:8080/"
        },
        "outputId": "cd291ada-d32e-4c8b-c93f-e2fe15d0da6e"
      },
      "outputs": [
        {
          "output_type": "stream",
          "name": "stderr",
          "text": [
            "/usr/local/lib/python3.10/dist-packages/tensorflow_addons/utils/tfa_eol_msg.py:23: UserWarning: \n",
            "\n",
            "TensorFlow Addons (TFA) has ended development and introduction of new features.\n",
            "TFA has entered a minimal maintenance and release mode until a planned end of life in May 2024.\n",
            "Please modify downstream libraries to take dependencies from other repositories in our TensorFlow community (e.g. Keras, Keras-CV, and Keras-NLP). \n",
            "\n",
            "For more information see: https://github.com/tensorflow/addons/issues/2807 \n",
            "\n",
            "  warnings.warn(\n"
          ]
        }
      ],
      "source": [
        "import tensorflow as tf\n",
        "import tensorflow_addons as tfa\n",
        "import os\n",
        "import cv2\n",
        "import numpy as np\n",
        "\n",
        "from drive.MyDrive.model_layer import make_model\n",
        "from sklearn.model_selection import StratifiedKFold\n",
        "from sklearn.preprocessing import OneHotEncoder\n",
        "from sklearn.model_selection import train_test_split\n",
        "\n",
        "import keras.backend as K\n",
        "\n",
        "os.makedirs('checkpoints', exist_ok=True)\n",
        "\n",
        "X = []\n",
        "y = []\n",
        "\n",
        "image_shape = (3, 255, 255)\n"
      ]
    },
    {
      "cell_type": "code",
      "source": [
        "for f_label, folder_name in enumerate(('ACTINIC_KERATOSIS', 'BASAL_CELL_CARCINOMA','DERMATOFIBROMA','MELANOMA','NEVUS','PIGMENTED_BENIGN_KERATOSIS','SQUAMOUS_CELL_CARCIMONA','VASCULAR_LESION')):\n",
        "    folder_path = os.path.join('/content/drive/MyDrive/256_data/', folder_name)\n",
        "    print(folder_path)\n",
        "    for fname in os.listdir(folder_path):\n",
        "        fpath = os.path.join(folder_path, fname)\n",
        "\n",
        "        img = cv2.imread(fpath, cv2.IMREAD_COLOR)\n",
        "        img = cv2.resize(img, image_shape[1:])\n",
        "\n",
        "        X.append(img)\n",
        "        y.append(f_label)\n"
      ],
      "metadata": {
        "colab": {
          "base_uri": "https://localhost:8080/"
        },
        "id": "1Jm1Shk7DYVc",
        "outputId": "5219dbd2-0264-4a19-95be-a41197e67548"
      },
      "execution_count": 4,
      "outputs": [
        {
          "output_type": "stream",
          "name": "stdout",
          "text": [
            "/content/drive/MyDrive/256_data/ACTINIC_KERATOSIS\n",
            "/content/drive/MyDrive/256_data/BASAL_CELL_CARCINOMA\n",
            "/content/drive/MyDrive/256_data/DERMATOFIBROMA\n",
            "/content/drive/MyDrive/256_data/MELANOMA\n",
            "/content/drive/MyDrive/256_data/NEVUS\n",
            "/content/drive/MyDrive/256_data/PIGMENTED_BENIGN_KERATOSIS\n",
            "/content/drive/MyDrive/256_data/SQUAMOUS_CELL_CARCIMONA\n",
            "/content/drive/MyDrive/256_data/VASCULAR_LESION\n"
          ]
        }
      ]
    },
    {
      "cell_type": "code",
      "source": [
        "X = np.array(X)\n",
        "y = np.array(y).reshape(-1, 1)\n",
        "\n",
        "X = (X / 255.)\n",
        "X = X.transpose(0, 3, 1, 2)\n",
        "X = X.astype(np.float32)\n",
        "y = y.astype(np.float32)"
      ],
      "metadata": {
        "id": "jQZQXVufEfMv"
      },
      "execution_count": 5,
      "outputs": []
    },
    {
      "cell_type": "code",
      "source": [
        "test2 = 0\n",
        "level1=10\n",
        "file_name=[]\n",
        "def make_test_data(test1,level1):\n",
        "  X=[]\n",
        "  y=[]\n",
        "\n",
        "  for f_label, folder_name in enumerate(('ACTINIC_KERATOSIS', 'BASAL_CELL_CARCINOMA','DERMATOFIBROMA','MELANOMA','NEVUS','PIGMENTED_BENIGN_KERATOSIS','SQUAMOUS_CELL_CARCIMONA','VASCULAR_LESION')):\n",
        "    folder_path = os.path.join(\"/content/drive/MyDrive/256_data/\", folder_name)\n",
        "    print(folder_path)\n",
        "\n",
        "    for fname in os.listdir(folder_path):\n",
        "        fpath = os.path.join(folder_path, fname)\n",
        "        img = cv2.imread(fpath, cv2.IMREAD_COLOR)\n",
        "        img = cv2.resize(img, image_shape[1:])\n",
        "\n",
        "\n",
        "        X.append(img)\n",
        "        y.append(f_label)\n",
        "\n",
        "  X = np.array(X)\n",
        "  y = np.array(y).reshape(-1, 1)\n",
        "\n",
        "  X = (X / 255.)\n",
        "  X = X.transpose(0, 3, 1, 2)\n",
        "  X = X.astype(np.float32)\n",
        "  y = y.astype(np.float32)\n",
        "\n",
        "  x_train = X\n",
        "  y_train = y\n",
        "  return x_train, y_train\n",
        "\n",
        "image_shape = (3, 255, 255)\n",
        "\n",
        "enc = OneHotEncoder(handle_unknown='ignore')\n",
        "temp_y = enc.fit_transform(y).toarray()\n",
        "\n",
        "x_train = X\n",
        "y_train = temp_y\n",
        "\n"
      ],
      "metadata": {
        "id": "l7HPl39YEjL7"
      },
      "execution_count": 6,
      "outputs": []
    },
    {
      "cell_type": "code",
      "source": [
        "x_train, x_temp, y_train, y_temp = train_test_split(X, temp_y, test_size=0.2, random_state=42)\n",
        "x_val, x_test, y_val, y_test = train_test_split(x_temp, y_temp, test_size=0.5, random_state=42)\n"
      ],
      "metadata": {
        "id": "BCLuitYYV_cY"
      },
      "execution_count": 7,
      "outputs": []
    },
    {
      "cell_type": "code",
      "source": [
        "#make model\n",
        "model = make_model(image_shape, num_classes=8)\n",
        "\n",
        "epochs = 10\n",
        "ckpoint= tf.keras.callbacks.ModelCheckpoint(filepath='/content/drive/MyDrive/256_data/model_save/',monitor='val_f1_score',save_best_only=True, save_weights_only=True)\n",
        "earlystopping= tf.keras.callbacks.EarlyStopping(monitor='val_f1_score', patience=10,mode='max')\n",
        "\n",
        "precision = tf.keras.metrics.Precision()\n",
        "recall = tf.keras.metrics.Recall()\n",
        "auc = tf.keras.metrics.AUC()\n",
        "spec=tf.keras.metrics.SpecificityAtSensitivity(0.5)\n",
        "iou=tf.keras.metrics.MeanIoU(num_classes=8)\n",
        "f1_score = tfa.metrics.F1Score(num_classes=8, threshold=0.6,average='micro')\n",
        "\n",
        "learningrate=0.000007\n",
        "opt1=tf.keras.optimizers.Adamax(learning_rate=learningrate)\n",
        "opt3=tf.keras.optimizers.Adam(learning_rate=learningrate)\n",
        "opt1=tf.keras.mixed_precision.LossScaleOptimizer(opt1)\n",
        "\n",
        "losses  = 'mse'\n",
        "model.compile(\n",
        "        optimizer = opt1,\n",
        "        loss = losses,\n",
        "        metrics = [precision, recall, auc,f1_score,spec,iou]\n",
        ")"
      ],
      "metadata": {
        "id": "tlLs9e_YFkUC"
      },
      "execution_count": 8,
      "outputs": []
    },
    {
      "cell_type": "code",
      "source": [
        "hist=model.fit(x_train, y_train,epochs=epochs,batch_size=8,validation_data = (x_val, y_val),\n",
        "        callbacks = [ckpoint]\n",
        ")\n"
      ],
      "metadata": {
        "colab": {
          "base_uri": "https://localhost:8080/"
        },
        "id": "b75_nBY2GLEp",
        "outputId": "3810cb23-7bc7-446a-ba67-51d9f3cdcc6f"
      },
      "execution_count": 9,
      "outputs": [
        {
          "output_type": "stream",
          "name": "stdout",
          "text": [
            "Epoch 1/10\n",
            "114/114 [==============================] - 46s 332ms/step - loss: 0.1092 - precision: 0.0000e+00 - recall: 0.0000e+00 - auc: 0.5517 - f1_score: 0.0000e+00 - specificity_at_sensitivity: 0.5559 - mean_io_u: 0.4375 - val_loss: 0.1094 - val_precision: 0.0000e+00 - val_recall: 0.0000e+00 - val_auc: 0.5000 - val_f1_score: 0.0000e+00 - val_specificity_at_sensitivity: 0.0000e+00 - val_mean_io_u: 0.4375\n",
            "Epoch 2/10\n",
            "114/114 [==============================] - 37s 329ms/step - loss: 0.1089 - precision: 0.0000e+00 - recall: 0.0000e+00 - auc: 0.6180 - f1_score: 0.0000e+00 - specificity_at_sensitivity: 0.5678 - mean_io_u: 0.4375 - val_loss: 0.1094 - val_precision: 0.0000e+00 - val_recall: 0.0000e+00 - val_auc: 0.5000 - val_f1_score: 0.0000e+00 - val_specificity_at_sensitivity: 0.0000e+00 - val_mean_io_u: 0.4375\n",
            "Epoch 3/10\n",
            "114/114 [==============================] - 36s 317ms/step - loss: 0.1084 - precision: 0.0000e+00 - recall: 0.0000e+00 - auc: 0.6606 - f1_score: 0.0000e+00 - specificity_at_sensitivity: 0.5725 - mean_io_u: 0.4375 - val_loss: 0.1094 - val_precision: 0.0000e+00 - val_recall: 0.0000e+00 - val_auc: 0.4987 - val_f1_score: 0.0000e+00 - val_specificity_at_sensitivity: 0.0000e+00 - val_mean_io_u: 0.4375\n",
            "Epoch 4/10\n",
            "114/114 [==============================] - 35s 305ms/step - loss: 0.1077 - precision: 0.0000e+00 - recall: 0.0000e+00 - auc: 0.6846 - f1_score: 0.0000e+00 - specificity_at_sensitivity: 0.5743 - mean_io_u: 0.4375 - val_loss: 0.1094 - val_precision: 0.0000e+00 - val_recall: 0.0000e+00 - val_auc: 0.4975 - val_f1_score: 0.0000e+00 - val_specificity_at_sensitivity: 0.0000e+00 - val_mean_io_u: 0.4375\n",
            "Epoch 5/10\n",
            "114/114 [==============================] - 35s 309ms/step - loss: 0.1067 - precision: 0.0000e+00 - recall: 0.0000e+00 - auc: 0.7030 - f1_score: 0.0000e+00 - specificity_at_sensitivity: 0.5868 - mean_io_u: 0.4375 - val_loss: 0.1093 - val_precision: 0.0000e+00 - val_recall: 0.0000e+00 - val_auc: 0.5153 - val_f1_score: 0.0000e+00 - val_specificity_at_sensitivity: 0.1241 - val_mean_io_u: 0.4375\n",
            "Epoch 6/10\n",
            "114/114 [==============================] - 34s 302ms/step - loss: 0.1057 - precision: 0.0000e+00 - recall: 0.0000e+00 - auc: 0.7032 - f1_score: 0.0000e+00 - specificity_at_sensitivity: 0.7352 - mean_io_u: 0.4375 - val_loss: 0.1087 - val_precision: 0.0000e+00 - val_recall: 0.0000e+00 - val_auc: 0.5969 - val_f1_score: 0.0000e+00 - val_specificity_at_sensitivity: 0.6190 - val_mean_io_u: 0.4375\n",
            "Epoch 7/10\n",
            "114/114 [==============================] - 34s 298ms/step - loss: 0.1044 - precision: 0.8333 - recall: 0.0055 - auc: 0.6972 - f1_score: 0.0022 - specificity_at_sensitivity: 0.7212 - mean_io_u: 0.4375 - val_loss: 0.1064 - val_precision: 0.0000e+00 - val_recall: 0.0000e+00 - val_auc: 0.6964 - val_f1_score: 0.0000e+00 - val_specificity_at_sensitivity: 0.6153 - val_mean_io_u: 0.4375\n",
            "Epoch 8/10\n",
            "114/114 [==============================] - 34s 297ms/step - loss: 0.1033 - precision: 0.7692 - recall: 0.0220 - auc: 0.7065 - f1_score: 0.0260 - specificity_at_sensitivity: 0.7165 - mean_io_u: 0.4375 - val_loss: 0.1034 - val_precision: 1.0000 - val_recall: 0.0175 - val_auc: 0.7186 - val_f1_score: 0.0000e+00 - val_specificity_at_sensitivity: 0.7118 - val_mean_io_u: 0.4375\n",
            "Epoch 9/10\n",
            "114/114 [==============================] - 35s 306ms/step - loss: 0.1018 - precision: 0.7805 - recall: 0.0352 - auc: 0.7164 - f1_score: 0.0450 - specificity_at_sensitivity: 0.7760 - mean_io_u: 0.4375 - val_loss: 0.1017 - val_precision: 0.8000 - val_recall: 0.0351 - val_auc: 0.7227 - val_f1_score: 0.0678 - val_specificity_at_sensitivity: 0.7682 - val_mean_io_u: 0.4375\n",
            "Epoch 10/10\n",
            "114/114 [==============================] - 34s 298ms/step - loss: 0.1013 - precision: 0.8140 - recall: 0.0385 - auc: 0.7201 - f1_score: 0.0472 - specificity_at_sensitivity: 0.7636 - mean_io_u: 0.4375 - val_loss: 0.1006 - val_precision: 0.9000 - val_recall: 0.0789 - val_auc: 0.7290 - val_f1_score: 0.0678 - val_specificity_at_sensitivity: 0.7544 - val_mean_io_u: 0.4375\n"
          ]
        }
      ]
    },
    {
      "cell_type": "code",
      "source": [
        "test_metrics = model.evaluate(x_test, y_test)"
      ],
      "metadata": {
        "colab": {
          "base_uri": "https://localhost:8080/"
        },
        "id": "AMdwPVlGXRZG",
        "outputId": "9af7160c-f26b-43fd-c7b2-30e3657db90d"
      },
      "execution_count": 10,
      "outputs": [
        {
          "output_type": "stream",
          "name": "stdout",
          "text": [
            "4/4 [==============================] - 1s 332ms/step - loss: 0.1027 - precision: 0.7000 - recall: 0.0614 - auc: 0.6831 - f1_score: 0.0984 - specificity_at_sensitivity: 0.7130 - mean_io_u: 0.4375\n"
          ]
        }
      ]
    },
    {
      "cell_type": "code",
      "source": [
        "print(\"Test Metrics:\", test_metrics)"
      ],
      "metadata": {
        "colab": {
          "base_uri": "https://localhost:8080/"
        },
        "id": "XE-7IChxXV05",
        "outputId": "995d7bb0-ad29-485f-ebaf-e410710ff171"
      },
      "execution_count": 11,
      "outputs": [
        {
          "output_type": "stream",
          "name": "stdout",
          "text": [
            "Test Metrics: [0.10268400609493256, 0.699999988079071, 0.061403509229421616, 0.6830673217773438, 0.09836065769195557, 0.713032603263855, 0.4375]\n"
          ]
        }
      ]
    },
    {
      "cell_type": "code",
      "source": [
        "print(hist.history.keys())"
      ],
      "metadata": {
        "colab": {
          "base_uri": "https://localhost:8080/"
        },
        "id": "VY_5pseiXn6O",
        "outputId": "ca3f8ab4-7560-441c-84ee-e3d6c062921d"
      },
      "execution_count": 12,
      "outputs": [
        {
          "output_type": "stream",
          "name": "stdout",
          "text": [
            "dict_keys(['loss', 'precision', 'recall', 'auc', 'f1_score', 'specificity_at_sensitivity', 'mean_io_u', 'val_loss', 'val_precision', 'val_recall', 'val_auc', 'val_f1_score', 'val_specificity_at_sensitivity', 'val_mean_io_u'])\n"
          ]
        }
      ]
    },
    {
      "cell_type": "code",
      "source": [
        "%matplotlib inline\n",
        "import matplotlib.pyplot as plt\n",
        "\n",
        "fig, loss_ax = plt.subplots()\n",
        "\n",
        "acc_ax = loss_ax.twinx()\n",
        "\n",
        "loss_ax.plot(hist.history['loss'],'y',label='train loss')\n",
        "loss_ax.plot(hist.history['val_loss'],'r',label='val loss')\n",
        "acc_ax.plot(hist.history['auc'],'b',label='train acc')\n",
        "acc_ax.plot(hist.history['val_auc'],'g',label='val acc')\n",
        "\n",
        "loss_ax.set_xlabel('epoch')\n",
        "loss_ax.set_ylabel('loss')\n",
        "acc_ax.set_ylabel('accuracy')\n",
        "\n",
        "loss_ax.legend(loc='upper left')\n",
        "acc_ax.legend(loc='lower left')\n",
        "plt.show()"
      ],
      "metadata": {
        "id": "Emmm6vSmPS5E",
        "colab": {
          "base_uri": "https://localhost:8080/",
          "height": 449
        },
        "outputId": "0fe4c748-60de-4c42-bfde-9ddd917da369"
      },
      "execution_count": 13,
      "outputs": [
        {
          "output_type": "display_data",
          "data": {
            "text/plain": [
              "<Figure size 640x480 with 2 Axes>"
            ],
            "image/png": "[encoded data removed]"
          },
          "metadata": {}
        }
      ]
    },
    {
      "cell_type": "code",
      "source": [
        "print('##### Test Result #####')\n",
        "print('loss : ',str(test_metrics[0]))\n",
        "print('Accuracy : ',str(test_metrics[1]))"
      ],
      "metadata": {
        "colab": {
          "base_uri": "https://localhost:8080/"
        },
        "id": "PVYdZ9pTYfbN",
        "outputId": "a8fd0b01-fe96-4cc1-fcac-39d382aba191"
      },
      "execution_count": 22,
      "outputs": [
        {
          "output_type": "stream",
          "name": "stdout",
          "text": [
            "##### Test Result #####\n",
            "loss :  0.10268400609493256\n",
            "Accuracy :  0.699999988079071\n"
          ]
        }
      ]
    },
    {
      "cell_type": "code",
      "source": [
        "# 모델을 훈련하고 history를 얻은 후\n",
        "\n",
        "# 훈련된 모델의 history에서 val_auc 값을 가져오기\n",
        "val_auc_values = hist.history['val_auc']\n",
        "print(val_auc_values)"
      ],
      "metadata": {
        "colab": {
          "base_uri": "https://localhost:8080/"
        },
        "id": "ksySGEMP0Cat",
        "outputId": "e0498462-8f92-4db7-c214-d0ac15bd6db3"
      },
      "execution_count": 21,
      "outputs": [
        {
          "output_type": "stream",
          "name": "stdout",
          "text": [
            "[0.5, 0.5, 0.4987468719482422, 0.4974937438964844, 0.5153453946113586, 0.5968539714813232, 0.696401059627533, 0.7186167240142822, 0.7227278351783752, 0.728971540927887]\n"
          ]
        }
      ]
    },
    {
      "cell_type": "code",
      "source": [
        "model.save(\"/content/drive/MyDrive/jpg_section/model_save/classification_model_\"+str(test2)+\"2.h5\")"
      ],
      "metadata": {
        "colab": {
          "base_uri": "https://localhost:8080/"
        },
        "id": "WlEpxA8XGRbA",
        "outputId": "5bc1b83c-2d52-4af2-e1b4-8ede0d8fcf21"
      },
      "execution_count": 15,
      "outputs": [
        {
          "output_type": "stream",
          "name": "stderr",
          "text": [
            "/usr/local/lib/python3.10/dist-packages/keras/src/engine/training.py:3079: UserWarning: You are saving your model as an HDF5 file via `model.save()`. This file format is considered legacy. We recommend using instead the native Keras format, e.g. `model.save('my_model.keras')`.\n",
            "  saving_api.save_model(\n"
          ]
        }
      ]
    }
  ]
}
