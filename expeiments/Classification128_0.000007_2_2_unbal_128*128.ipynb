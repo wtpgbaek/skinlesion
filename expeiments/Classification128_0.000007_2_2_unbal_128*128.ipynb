{
  "nbformat": 4,
  "nbformat_minor": 0,
  "metadata": {
    "colab": {
      "provenance": [],
      "mount_file_id": "1kT4NAfj5xgl1mJP_Dcp9TnC5r14c-5m_",
      "authorship_tag": "ABX9TyOoRyuSSzgdf9/nBtsk0Wud",
      "include_colab_link": true
    },
    "kernelspec": {
      "name": "python3",
      "display_name": "Python 3"
    },
    "language_info": {
      "name": "python"
    }
  },
  "cells": [
    {
      "cell_type": "markdown",
      "metadata": {
        "id": "view-in-github",
        "colab_type": "text"
      },
      "source": [
        "<a href=\"https://colab.research.google.com/github/wtpgbaek/skinlesion/blob/main/Untitled10_ipynb_%ED%95%B4%EC%83%81%EB%8F%84128.ipynb\" target=\"_parent\"><img src=\"https://colab.research.google.com/assets/colab-badge.svg\" alt=\"Open In Colab\"/></a>"
      ]
    },
    {
      "cell_type": "code",
      "source": [
        "!pip install tensorflow_addons"
      ],
      "metadata": {
        "colab": {
          "base_uri": "https://localhost:8080/"
        },
        "id": "80fxaYfUDfj-",
        "outputId": "3ff9fe6b-5999-44dc-ddc6-0254825bea05"
      },
      "execution_count": 1,
      "outputs": [
        {
          "output_type": "stream",
          "name": "stdout",
          "text": [
            "Collecting tensorflow_addons\n",
            "  Downloading tensorflow_addons-0.23.0-cp310-cp310-manylinux_2_17_x86_64.manylinux2014_x86_64.whl (611 kB)\n",
            "\u001b[2K     \u001b[90m━━━━━━━━━━━━━━━━━━━━━━━━━━━━━━━━━━━━━━━━\u001b[0m \u001b[32m611.8/611.8 kB\u001b[0m \u001b[31m4.1 MB/s\u001b[0m eta \u001b[36m0:00:00\u001b[0m\n",
            "\u001b[?25hRequirement already satisfied: packaging in /usr/local/lib/python3.10/dist-packages (from tensorflow_addons) (23.2)\n",
            "Collecting typeguard<3.0.0,>=2.7 (from tensorflow_addons)\n",
            "  Downloading typeguard-2.13.3-py3-none-any.whl (17 kB)\n",
            "Installing collected packages: typeguard, tensorflow_addons\n",
            "Successfully installed tensorflow_addons-0.23.0 typeguard-2.13.3\n"
          ]
        }
      ]
    },
    {
      "cell_type": "code",
      "source": [
        "from google.colab import drive\n",
        "drive.mount('/content/drive')"
      ],
      "metadata": {
        "colab": {
          "base_uri": "https://localhost:8080/"
        },
        "id": "Azrrm82Zpq-y",
        "outputId": "affc8a77-87d5-4867-9d2c-aa3610cf0601"
      },
      "execution_count": 2,
      "outputs": [
        {
          "output_type": "stream",
          "name": "stdout",
          "text": [
            "Mounted at /content/drive\n"
          ]
        }
      ]
    },
    {
      "cell_type": "code",
      "execution_count": 3,
      "metadata": {
        "id": "t4GEiRlaDUit",
        "colab": {
          "base_uri": "https://localhost:8080/"
        },
        "outputId": "5943000d-c615-4d49-e428-5ee5f47ceeae"
      },
      "outputs": [
        {
          "output_type": "stream",
          "name": "stderr",
          "text": [
            "/usr/local/lib/python3.10/dist-packages/tensorflow_addons/utils/tfa_eol_msg.py:23: UserWarning: \n",
            "\n",
            "TensorFlow Addons (TFA) has ended development and introduction of new features.\n",
            "TFA has entered a minimal maintenance and release mode until a planned end of life in May 2024.\n",
            "Please modify downstream libraries to take dependencies from other repositories in our TensorFlow community (e.g. Keras, Keras-CV, and Keras-NLP). \n",
            "\n",
            "For more information see: https://github.com/tensorflow/addons/issues/2807 \n",
            "\n",
            "  warnings.warn(\n"
          ]
        }
      ],
      "source": [
        "import tensorflow as tf\n",
        "import tensorflow_addons as tfa\n",
        "import os\n",
        "import cv2\n",
        "import numpy as np\n",
        "\n",
        "from drive.MyDrive.model_layer import make_model\n",
        "from sklearn.model_selection import StratifiedKFold\n",
        "from sklearn.preprocessing import OneHotEncoder\n",
        "from sklearn.model_selection import train_test_split\n",
        "\n",
        "import keras.backend as K\n",
        "\n",
        "os.makedirs('checkpoints', exist_ok=True)\n",
        "\n",
        "X = []\n",
        "y = []\n",
        "\n",
        "image_shape = (3, 128, 128)\n"
      ]
    },
    {
      "cell_type": "code",
      "source": [
        "for f_label, folder_name in enumerate(('ACTINIC_KERATOSIS', 'BASAL_CELL_CARCINOMA','DERMATOFIBROMA','MELANOMA','NEVUS','PIGMENTED_BENIGN_KERATOSIS','SQUAMOUS_CELL_CARCIMONA','VASCULAR_LESION')):\n",
        "    folder_path = os.path.join('/content/drive/MyDrive/jpg_section/', folder_name)\n",
        "    print(folder_path)\n",
        "    for fname in os.listdir(folder_path):\n",
        "        fpath = os.path.join(folder_path, fname)\n",
        "\n",
        "        img = cv2.imread(fpath, cv2.IMREAD_COLOR)\n",
        "        img = cv2.resize(img, image_shape[1:])\n",
        "\n",
        "        X.append(img)\n",
        "        y.append(f_label)\n"
      ],
      "metadata": {
        "colab": {
          "base_uri": "https://localhost:8080/"
        },
        "id": "1Jm1Shk7DYVc",
        "outputId": "998d87b8-0fd5-4132-f866-f15c0c88f6af"
      },
      "execution_count": 4,
      "outputs": [
        {
          "output_type": "stream",
          "name": "stdout",
          "text": [
            "/content/drive/MyDrive/jpg_section/ACTINIC_KERATOSIS\n",
            "/content/drive/MyDrive/jpg_section/BASAL_CELL_CARCINOMA\n",
            "/content/drive/MyDrive/jpg_section/DERMATOFIBROMA\n",
            "/content/drive/MyDrive/jpg_section/MELANOMA\n",
            "/content/drive/MyDrive/jpg_section/NEVUS\n",
            "/content/drive/MyDrive/jpg_section/PIGMENTED_BENIGN_KERATOSIS\n",
            "/content/drive/MyDrive/jpg_section/SQUAMOUS_CELL_CARCIMONA\n",
            "/content/drive/MyDrive/jpg_section/VASCULAR_LESION\n"
          ]
        }
      ]
    },
    {
      "cell_type": "code",
      "source": [
        "X = np.array(X)\n",
        "y = np.array(y).reshape(-1, 1)\n",
        "\n",
        "X = (X / 127.)\n",
        "X = X.transpose(0, 3, 1, 2)\n",
        "X = X.astype(np.float32)\n",
        "y = y.astype(np.float32)"
      ],
      "metadata": {
        "id": "jQZQXVufEfMv"
      },
      "execution_count": 5,
      "outputs": []
    },
    {
      "cell_type": "code",
      "source": [
        "test2 = 0\n",
        "level1=10\n",
        "file_name=[]\n",
        "def make_test_data(test1,level1):\n",
        "  X=[]\n",
        "  y=[]\n",
        "\n",
        "  for f_label, folder_name in enumerate(('ACTINIC_KERATOSIS', 'BASAL_CELL_CARCINOMA','DERMATOFIBROMA','MELANOMA','NEVUS','PIGMENTED_BENIGN_KERATOSIS','SQUAMOUS_CELL_CARCIMONA','VASCULAR_LESION')):\n",
        "    folder_path = os.path.join(\"/content/drive/MyDrive/jpg_section/\", folder_name)\n",
        "    print(folder_path)\n",
        "\n",
        "    for fname in os.listdir(folder_path):\n",
        "        fpath = os.path.join(folder_path, fname)\n",
        "        img = cv2.imread(fpath, cv2.IMREAD_COLOR)\n",
        "        img = cv2.resize(img, (128,128))\n",
        "\n",
        "\n",
        "        X.append(img)\n",
        "        y.append(f_label)\n",
        "\n",
        "  X = np.array(X)\n",
        "  y = np.array(y).reshape(-1, 1)\n",
        "\n",
        "  X = (X / 127.)\n",
        "  X = X.transpose(0, 3, 1, 2)\n",
        "  X = X.astype(np.float32)\n",
        "  y = y.astype(np.float32)\n",
        "\n",
        "  x_train = X\n",
        "  y_train = y\n",
        "  return x_train, y_train\n",
        "\n",
        "image_shape = (3, 128, 128)\n",
        "\n",
        "enc = OneHotEncoder(handle_unknown='ignore')\n",
        "temp_y = enc.fit_transform(y).toarray()\n",
        "\n",
        "x_train = X\n",
        "y_train = temp_y\n",
        "\n"
      ],
      "metadata": {
        "id": "l7HPl39YEjL7"
      },
      "execution_count": 6,
      "outputs": []
    },
    {
      "cell_type": "code",
      "source": [
        "x_train, x_temp, y_train, y_temp = train_test_split(X, temp_y, test_size=0.2, random_state=42)\n",
        "x_val, x_test, y_val, y_test = train_test_split(x_temp, y_temp, test_size=0.5, random_state=42)\n"
      ],
      "metadata": {
        "id": "BCLuitYYV_cY"
      },
      "execution_count": 7,
      "outputs": []
    },
    {
      "cell_type": "code",
      "source": [
        "#make model\n",
        "model = make_model(image_shape, num_classes=8)\n",
        "\n",
        "epochs = 2\n",
        "ckpoint= tf.keras.callbacks.ModelCheckpoint(filepath='/content/drive/MyDrive/jpg_section/model_save/',monitor='val_f1_score',save_best_only=True, save_weights_only=True)\n",
        "earlystopping= tf.keras.callbacks.EarlyStopping(monitor='val_f1_score', patience=10,mode='max')\n",
        "\n",
        "precision = tf.keras.metrics.Precision()\n",
        "recall = tf.keras.metrics.Recall()\n",
        "auc = tf.keras.metrics.AUC()\n",
        "spec=tf.keras.metrics.SpecificityAtSensitivity(0.5)\n",
        "iou=tf.keras.metrics.MeanIoU(num_classes=8)\n",
        "f1_score = tfa.metrics.F1Score(num_classes=8, threshold=0.6,average='micro')\n",
        "\n",
        "learningrate=0.000007\n",
        "opt1=tf.keras.optimizers.Adamax(learning_rate=learningrate)\n",
        "opt3=tf.keras.optimizers.Adam(learning_rate=learningrate)\n",
        "opt1=tf.keras.mixed_precision.LossScaleOptimizer(opt1)\n",
        "\n",
        "losses  = 'mse'\n",
        "model.compile(\n",
        "        optimizer = opt1,\n",
        "        loss = losses,\n",
        "        metrics = [precision, recall, auc,f1_score,spec,iou]\n",
        ")"
      ],
      "metadata": {
        "id": "tlLs9e_YFkUC"
      },
      "execution_count": 8,
      "outputs": []
    },
    {
      "cell_type": "code",
      "source": [
        "hist=model.fit(x_train, y_train,epochs=epochs,batch_size=2,validation_data = (x_val, y_val),\n",
        "        callbacks = [ckpoint]\n",
        ")\n"
      ],
      "metadata": {
        "colab": {
          "base_uri": "https://localhost:8080/"
        },
        "id": "b75_nBY2GLEp",
        "outputId": "53fab6ec-f36c-41c7-9cc9-aaed870a31fb"
      },
      "execution_count": 9,
      "outputs": [
        {
          "output_type": "stream",
          "name": "stdout",
          "text": [
            "Epoch 1/2\n",
            "455/455 [==============================] - 46s 87ms/step - loss: 0.1051 - precision: 0.0000e+00 - recall: 0.0000e+00 - auc: 0.8200 - f1_score: 0.0000e+00 - specificity_at_sensitivity: 0.9672 - mean_io_u: 0.4375 - val_loss: 0.1067 - val_precision: 0.0000e+00 - val_recall: 0.0000e+00 - val_auc: 0.8659 - val_f1_score: 0.0000e+00 - val_specificity_at_sensitivity: 0.9637 - val_mean_io_u: 0.4375\n",
            "Epoch 2/2\n",
            "455/455 [==============================] - 36s 79ms/step - loss: 0.0806 - precision: 0.7622 - recall: 0.1375 - auc: 0.8660 - f1_score: 0.1292 - specificity_at_sensitivity: 0.9731 - mean_io_u: 0.4375 - val_loss: 0.0648 - val_precision: 0.7647 - val_recall: 0.3421 - val_auc: 0.8938 - val_f1_score: 0.2714 - val_specificity_at_sensitivity: 0.9825 - val_mean_io_u: 0.4375\n"
          ]
        }
      ]
    },
    {
      "cell_type": "code",
      "source": [
        "test_metrics = model.evaluate(x_test, y_test)"
      ],
      "metadata": {
        "id": "AMdwPVlGXRZG",
        "colab": {
          "base_uri": "https://localhost:8080/"
        },
        "outputId": "abb116d7-af86-44ac-e838-02394564010e"
      },
      "execution_count": 10,
      "outputs": [
        {
          "output_type": "stream",
          "name": "stdout",
          "text": [
            "4/4 [==============================] - 1s 104ms/step - loss: 0.0704 - precision: 0.7037 - recall: 0.3333 - auc: 0.8549 - f1_score: 0.2759 - specificity_at_sensitivity: 0.9737 - mean_io_u: 0.4375\n"
          ]
        }
      ]
    },
    {
      "cell_type": "code",
      "source": [
        "print(\"Test Metrics:\", test_metrics)"
      ],
      "metadata": {
        "colab": {
          "base_uri": "https://localhost:8080/"
        },
        "id": "XE-7IChxXV05",
        "outputId": "64ee8f0e-fbc1-4973-a029-bd1015a811fa"
      },
      "execution_count": 11,
      "outputs": [
        {
          "output_type": "stream",
          "name": "stdout",
          "text": [
            "Test Metrics: [0.07036229968070984, 0.7037037014961243, 0.3333333432674408, 0.8549333810806274, 0.27586206793785095, 0.9736841917037964, 0.4375]\n"
          ]
        }
      ]
    },
    {
      "cell_type": "code",
      "source": [
        "print(hist.history.keys())"
      ],
      "metadata": {
        "colab": {
          "base_uri": "https://localhost:8080/"
        },
        "id": "VY_5pseiXn6O",
        "outputId": "00b1b064-fcd8-4dc0-b9e8-94346768a69e"
      },
      "execution_count": 12,
      "outputs": [
        {
          "output_type": "stream",
          "name": "stdout",
          "text": [
            "dict_keys(['loss', 'precision', 'recall', 'auc', 'f1_score', 'specificity_at_sensitivity', 'mean_io_u', 'val_loss', 'val_precision', 'val_recall', 'val_auc', 'val_f1_score', 'val_specificity_at_sensitivity', 'val_mean_io_u'])\n"
          ]
        }
      ]
    },
    {
      "cell_type": "code",
      "source": [
        "%matplotlib inline\n",
        "import matplotlib.pyplot as plt\n",
        "\n",
        "fig, loss_ax = plt.subplots()\n",
        "\n",
        "acc_ax = loss_ax.twinx()\n",
        "\n",
        "loss_ax.plot(hist.history['loss'],'y',label='train loss')\n",
        "loss_ax.plot(hist.history['val_loss'],'r',label='val loss')\n",
        "acc_ax.plot(hist.history['auc'],'b',label='train acc')\n",
        "acc_ax.plot(hist.history['val_auc'],'g',label='val acc')\n",
        "\n",
        "loss_ax.set_xlabel('epoch')\n",
        "loss_ax.set_ylabel('loss')\n",
        "acc_ax.set_ylabel('accuracy')\n",
        "\n",
        "loss_ax.legend(loc='upper left')\n",
        "acc_ax.legend(loc='lower left')\n",
        "plt.show()"
      ],
      "metadata": {
        "id": "Emmm6vSmPS5E",
        "colab": {
          "base_uri": "https://localhost:8080/",
          "height": 449
        },
        "outputId": "309de669-8765-4b81-a80d-19599475f4fa"
      },
      "execution_count": 13,
      "outputs": [
        {
          "output_type": "display_data",
          "data": {
            "text/plain": [
              "<Figure size 640x480 with 2 Axes>"
            ],
            "image/png": "[encoded data removed]"
          },
          "metadata": {}
        }
      ]
    },
    {
      "cell_type": "code",
      "source": [
        "print('##### Test Result #####')\n",
        "print('loss : ',str(test_metrics[0]))\n",
        "print('Accuracy : ',str(test_metrics[1]))\n"
      ],
      "metadata": {
        "colab": {
          "base_uri": "https://localhost:8080/"
        },
        "id": "PVYdZ9pTYfbN",
        "outputId": "3921f260-8e67-4238-a6d1-46302091d86f"
      },
      "execution_count": 14,
      "outputs": [
        {
          "output_type": "stream",
          "name": "stdout",
          "text": [
            "##### Test Result #####\n",
            "loss :  0.07036229968070984\n",
            "Accuracy :  0.7037037014961243\n"
          ]
        }
      ]
    },
    {
      "cell_type": "code",
      "source": [
        "model.save(\"/content/drive/MyDrive/jpg_section/model_save/classification_model_\"+str(test2)+\"2.h5\")"
      ],
      "metadata": {
        "id": "WlEpxA8XGRbA",
        "colab": {
          "base_uri": "https://localhost:8080/"
        },
        "outputId": "0ae7d0b9-3c2b-4549-c2c9-d4bfea1c3c67"
      },
      "execution_count": 15,
      "outputs": [
        {
          "output_type": "stream",
          "name": "stderr",
          "text": [
            "/usr/local/lib/python3.10/dist-packages/keras/src/engine/training.py:3079: UserWarning: You are saving your model as an HDF5 file via `model.save()`. This file format is considered legacy. We recommend using instead the native Keras format, e.g. `model.save('my_model.keras')`.\n",
            "  saving_api.save_model(\n"
          ]
        }
      ]
    }
  ]
}
